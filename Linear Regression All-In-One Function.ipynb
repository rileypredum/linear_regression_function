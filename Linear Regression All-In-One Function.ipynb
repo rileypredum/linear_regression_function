{
 "cells": [
  {
   "cell_type": "code",
   "execution_count": 1,
   "metadata": {},
   "outputs": [],
   "source": [
    "import pandas as pd, numpy as np\n",
    "import matplotlib.pyplot as plt\n",
    "import seaborn as sns\n",
    "%matplotlib inline"
   ]
  },
  {
   "cell_type": "code",
   "execution_count": 27,
   "metadata": {},
   "outputs": [],
   "source": [
    "df = pd.read_csv('loan_data.csv')"
   ]
  },
  {
   "cell_type": "code",
   "execution_count": 32,
   "metadata": {},
   "outputs": [
    {
     "data": {
      "text/plain": [
       "Index(['credit.policy', 'int.rate', 'installment', 'log.annual.inc', 'dti',\n",
       "       'fico', 'days.with.cr.line', 'revol.bal', 'revol.util',\n",
       "       'inq.last.6mths', 'delinq.2yrs', 'pub.rec', 'not.fully.paid'],\n",
       "      dtype='object')"
      ]
     },
     "execution_count": 32,
     "metadata": {},
     "output_type": "execute_result"
    }
   ],
   "source": [
    "df.columns"
   ]
  },
  {
   "cell_type": "code",
   "execution_count": 33,
   "metadata": {},
   "outputs": [],
   "source": [
    "x_columns = df[['credit.policy', 'int.rate', 'installment', 'log.annual.inc', 'dti', 'days.with.cr.line', 'revol.bal', 'revol.util',\n",
    "       'inq.last.6mths', 'delinq.2yrs', 'pub.rec', 'not.fully.paid']]\n",
    "\n",
    "y_column = df['fico']"
   ]
  },
  {
   "cell_type": "code",
   "execution_count": 50,
   "metadata": {},
   "outputs": [],
   "source": [
    "def linear_regression(df, x_columns, y_column):\n",
    "    '''Takes a dataframe, the x variables (columns of the \n",
    "    dataframe) to be trained on as an array and the \n",
    "    y column to use in predictions and testing variable \n",
    "    and returns the coefficients for each x variable \n",
    "    on y (the dependent variable).\n",
    "    \n",
    "    Requires a dataframe with only quantitative values, \n",
    "    no strings.\n",
    "    \n",
    "    Example of the required data cleaning and then function call:\n",
    "    df = pd.read_csv(\"loan_data.csv\")\n",
    "    df = df.drop(['string columns'], axis=1)\n",
    "    x_columns = df['x_a', 'x_b', ...'x_n']\n",
    "    y_column = df['y_variable']\n",
    "    \n",
    "    linear_regression(df, x_columns, y_column)\n",
    "    \n",
    "    \n",
    "                Coeff\n",
    "    credit.policy\t 11.359122\n",
    "    inq.last.6mths\t 0.236195\n",
    "    installment\t     0.040879\n",
    "    days.with.cr.li  0.002172\n",
    "    revol.bal\t     0.000043\n",
    "    dti\t-0.224324\n",
    "    log.annual.inc\t-0.238352\n",
    "    revol.util\t-0.361837\n",
    "    not.fully.paid\t-2.132126\n",
    "    delinq.2yrs\t-9.282614\n",
    "    pub.rec\t-10.164147\n",
    "    int.rate\t-786.193923\n",
    "    '''\n",
    "    X = x_columns\n",
    "    y = y_column\n",
    "    \n",
    "    from sklearn.model_selection import train_test_split\n",
    "    \n",
    "    X_train, X_test, y_train, y_test = train_test_split(X, y, test_size=0.3)\n",
    "    \n",
    "    from sklearn.linear_model import LinearRegression\n",
    "    \n",
    "    lm = LinearRegression()\n",
    "    \n",
    "    lm.fit(X_train, y_train)\n",
    "    \n",
    "    cdf = pd.DataFrame(lm.coef_,X.columns,columns=['Coeff'])\n",
    "    \n",
    "    return cdf.sort_values('Coeff', ascending=False)"
   ]
  },
  {
   "cell_type": "code",
   "execution_count": 51,
   "metadata": {},
   "outputs": [
    {
     "data": {
      "text/html": [
       "<div>\n",
       "<style scoped>\n",
       "    .dataframe tbody tr th:only-of-type {\n",
       "        vertical-align: middle;\n",
       "    }\n",
       "\n",
       "    .dataframe tbody tr th {\n",
       "        vertical-align: top;\n",
       "    }\n",
       "\n",
       "    .dataframe thead th {\n",
       "        text-align: right;\n",
       "    }\n",
       "</style>\n",
       "<table border=\"1\" class=\"dataframe\">\n",
       "  <thead>\n",
       "    <tr style=\"text-align: right;\">\n",
       "      <th></th>\n",
       "      <th>Coeff</th>\n",
       "    </tr>\n",
       "  </thead>\n",
       "  <tbody>\n",
       "    <tr>\n",
       "      <th>credit.policy</th>\n",
       "      <td>9.449872</td>\n",
       "    </tr>\n",
       "    <tr>\n",
       "      <th>installment</th>\n",
       "      <td>0.041081</td>\n",
       "    </tr>\n",
       "    <tr>\n",
       "      <th>days.with.cr.line</th>\n",
       "      <td>0.002216</td>\n",
       "    </tr>\n",
       "    <tr>\n",
       "      <th>revol.bal</th>\n",
       "      <td>0.000025</td>\n",
       "    </tr>\n",
       "    <tr>\n",
       "      <th>inq.last.6mths</th>\n",
       "      <td>-0.054623</td>\n",
       "    </tr>\n",
       "    <tr>\n",
       "      <th>log.annual.inc</th>\n",
       "      <td>-0.150813</td>\n",
       "    </tr>\n",
       "    <tr>\n",
       "      <th>dti</th>\n",
       "      <td>-0.246275</td>\n",
       "    </tr>\n",
       "    <tr>\n",
       "      <th>revol.util</th>\n",
       "      <td>-0.358173</td>\n",
       "    </tr>\n",
       "    <tr>\n",
       "      <th>not.fully.paid</th>\n",
       "      <td>-3.042654</td>\n",
       "    </tr>\n",
       "    <tr>\n",
       "      <th>pub.rec</th>\n",
       "      <td>-9.179430</td>\n",
       "    </tr>\n",
       "    <tr>\n",
       "      <th>delinq.2yrs</th>\n",
       "      <td>-9.195095</td>\n",
       "    </tr>\n",
       "    <tr>\n",
       "      <th>int.rate</th>\n",
       "      <td>-796.640494</td>\n",
       "    </tr>\n",
       "  </tbody>\n",
       "</table>\n",
       "</div>"
      ],
      "text/plain": [
       "                        Coeff\n",
       "credit.policy        9.449872\n",
       "installment          0.041081\n",
       "days.with.cr.line    0.002216\n",
       "revol.bal            0.000025\n",
       "inq.last.6mths      -0.054623\n",
       "log.annual.inc      -0.150813\n",
       "dti                 -0.246275\n",
       "revol.util          -0.358173\n",
       "not.fully.paid      -3.042654\n",
       "pub.rec             -9.179430\n",
       "delinq.2yrs         -9.195095\n",
       "int.rate          -796.640494"
      ]
     },
     "execution_count": 51,
     "metadata": {},
     "output_type": "execute_result"
    }
   ],
   "source": [
    "linear_regression(df, x_columns, y_column)"
   ]
  }
 ],
 "metadata": {
  "kernelspec": {
   "display_name": "Python 3",
   "language": "python",
   "name": "python3"
  },
  "language_info": {
   "codemirror_mode": {
    "name": "ipython",
    "version": 3
   },
   "file_extension": ".py",
   "mimetype": "text/x-python",
   "name": "python",
   "nbconvert_exporter": "python",
   "pygments_lexer": "ipython3",
   "version": "3.7.1"
  }
 },
 "nbformat": 4,
 "nbformat_minor": 2
}
